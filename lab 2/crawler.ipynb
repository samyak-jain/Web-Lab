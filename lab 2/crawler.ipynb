{
 "cells": [
  {
   "cell_type": "code",
   "execution_count": 6,
   "metadata": {},
   "outputs": [],
   "source": [
    "import requests\n",
    "from bs4 import BeautifulSoup\n",
    "import re"
   ]
  },
  {
   "cell_type": "code",
   "execution_count": 7,
   "metadata": {},
   "outputs": [],
   "source": [
    "class Crawler():\n",
    "    def __init__(self, url, max_pages):\n",
    "        self.url = url\n",
    "        self.max_pages = max_pages\n",
    "\n",
    "    def get_url(self, current_url, urls_found):\n",
    "        urls = set([])\n",
    "        try:\n",
    "            response = requests.get(current_url)\n",
    "        except:\n",
    "            print('Unable to connect to internet or Invalid link. Please check')\n",
    "            return urls\n",
    "        soup = BeautifulSoup(response.text, \"html.parser\")\n",
    "        for i in soup(['script', 'style']):\n",
    "            i.extract()\n",
    "            \n",
    "        with open(f\"{self.algorithm}/{abs(hash(current_url))}.txt\", \"w\") as f:\n",
    "            f.write(soup.get_text())\n",
    "            \n",
    "        newLink = soup.findAll('a')\n",
    "        for link in newLink:\n",
    "            try:\n",
    "                link = str(link.get('href'))\n",
    "                m = re.match(r'http+', link)\n",
    "                if not m:\n",
    "                    link = current_url + link\n",
    "                if link not in urls_found:\n",
    "                    urls.add(str(link))\n",
    "            except UnicodeEncodeError as e:\n",
    "                print('Error ---> ', e)\n",
    "        return urls\n",
    "        \n",
    "    def start(self, algorithm):\n",
    "        self.algorithm = algorithm\n",
    "        structure = []\n",
    "        urls_found = set([])\n",
    "        structure.append(self.url)\n",
    "        count = 0\n",
    "        while count < self.max_pages and structure:\n",
    "            if algorithm == \"bfs\":\n",
    "                current_url = structure.pop(0)\n",
    "            else:\n",
    "                current_url = structure.pop()\n",
    "            urls = self.get_url(current_url, urls_found)\n",
    "            print('[%s] links found in %s' %(len(urls), current_url))\n",
    "            for i in urls:\n",
    "                structure.append(i)\n",
    "                urls_found.add(i)\n",
    "            count += 1\n",
    "        return urls_found\n",
    "        \n",
    "    def __str__(self):\n",
    "        return 'url:%s' % (self.url)"
   ]
  },
  {
   "cell_type": "code",
   "execution_count": 11,
   "metadata": {},
   "outputs": [],
   "source": [
    "crawler = Crawler(\"https://www.dreamhost.com/\", 20)"
   ]
  },
  {
   "cell_type": "code",
   "execution_count": 12,
   "metadata": {},
   "outputs": [
    {
     "name": "stdout",
     "output_type": "stream",
     "text": [
      "[55] links found in https://www.dreamhost.com/\n",
      "[39] links found in https://www.dreamhost.com/hosting/vps/\n",
      "[34] links found in https://www.dreamhost.com//company/\n",
      "[38] links found in https://www.dreamhost.com/hosting/dedicated/\n",
      "[35] links found in https://www.dreamhost.com//partners/\n",
      "[114] links found in https://www.dreamhost.com//news/\n",
      "[31] links found in https://www.dreamhost.com//legal/abuse/\n",
      "[36] links found in https://www.dreamhost.com//affiliates/\n",
      "[2] links found in https://www.dreamhost.com///panel.dreamhost.com\n",
      "[70] links found in https://help.dreamhost.com/hc/en-us/articles/218339127-What-Applications-Are-Compatible-With-DreamObjects\n",
      "Unable to connect to internet or Invalid link. Please check\n",
      "[0] links found in https://www.dreamhost.com//hosting/\n",
      "[39] links found in https://www.dreamhost.com//domains/\n",
      "Unable to connect to internet or Invalid link. Please check\n",
      "[0] links found in https://help.dreamhost.com/hc/en-us/categories/202115428-DreamObjects-Cloud-Storage\n",
      "[0] links found in https://www.instagram.com/dreamhost\n",
      "[29] links found in https://www.dreamhost.com///dreamhostremixer.com\n",
      "[37] links found in https://www.dreamhost.com//hosting/monthly-web-hosting/\n",
      "[38] links found in https://www.dreamhost.com/hosting/shared/\n",
      "[41] links found in https://discussion.dreamhost.com/\n",
      "[7] links found in https://www.dreamhost.com///webmail.dreamhost.com\n",
      "[34] links found in https://www.dreamhost.com//hosting/shared/\n"
     ]
    }
   ],
   "source": [
    "_ = crawler.start(\"bfs\")"
   ]
  },
  {
   "cell_type": "code",
   "execution_count": 10,
   "metadata": {},
   "outputs": [
    {
     "name": "stdout",
     "output_type": "stream",
     "text": [
      "[55] links found in https://www.dreamhost.com/\n",
      "[0] links found in https://iad2.dreamcompute.com/auth/login/?next=/\n",
      "[47] links found in https://www.dreamhost.com/wordpress/\n",
      "[29] links found in https://www.dreamhost.com/wordpress//legal/abuse/\n",
      "[28] links found in https://www.dreamhost.com/wordpress//legal/abuse//wordpress/optimizing-wp-for-speed/\n"
     ]
    }
   ],
   "source": [
    "_ = crawler.start(\"dfs\")"
   ]
  },
  {
   "cell_type": "code",
   "execution_count": null,
   "metadata": {},
   "outputs": [],
   "source": []
  },
  {
   "cell_type": "code",
   "execution_count": null,
   "metadata": {},
   "outputs": [],
   "source": []
  }
 ],
 "metadata": {
  "kernelspec": {
   "display_name": "Python 3",
   "language": "python",
   "name": "python3"
  },
  "language_info": {
   "codemirror_mode": {
    "name": "ipython",
    "version": 3
   },
   "file_extension": ".py",
   "mimetype": "text/x-python",
   "name": "python",
   "nbconvert_exporter": "python",
   "pygments_lexer": "ipython3",
   "version": "3.7.0"
  }
 },
 "nbformat": 4,
 "nbformat_minor": 2
}
